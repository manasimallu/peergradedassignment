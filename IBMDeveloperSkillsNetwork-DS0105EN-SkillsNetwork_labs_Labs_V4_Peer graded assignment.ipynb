{
  "metadata": {
    "language_info": {
      "codemirror_mode": {
        "name": "python",
        "version": 3
      },
      "file_extension": ".py",
      "mimetype": "text/x-python",
      "name": "python",
      "nbconvert_exporter": "python",
      "pygments_lexer": "ipython3",
      "version": "3.8"
    },
    "kernelspec": {
      "name": "python",
      "display_name": "Pyolite",
      "language": "python"
    }
  },
  "nbformat_minor": 4,
  "nbformat": 4,
  "cells": [
    {
      "cell_type": "markdown",
      "source": "***Title:*** Peer-graded Assignment\n",
      "metadata": {}
    },
    {
      "cell_type": "markdown",
      "source": "***Introducation to Data Science:***  \n    Data science is the study of data to extract meaningful insights for business. It is a multidisciplinary \n    approach that combines principles and practices from the fields of mathematics, statistics, artificial \n    intelligence, and computer engineering to analyze large amounts of data.",
      "metadata": {}
    },
    {
      "cell_type": "markdown",
      "source": "***Data Science languages:*** \nPython,\nR,\nJava, Julia,\nScala,\nJavaScript,\nSwift.",
      "metadata": {}
    },
    {
      "cell_type": "markdown",
      "source": "| Data Science tools | \n|---------------|\n|Scikit-Learn |\n| TensorFlow | \n| PyTorch | \n| Theano |",
      "metadata": {}
    },
    {
      "cell_type": "markdown",
      "source": "***Arithmetic Expression Example:***\n   - 1+1=2\n   - 2*2=4\n   - 4/2=2\n   - 2-2=0",
      "metadata": {}
    },
    {
      "cell_type": "code",
      "source": "#Code cell to add numbers.\n1+1",
      "metadata": {
        "trusted": true
      },
      "execution_count": 13,
      "outputs": [
        {
          "execution_count": 13,
          "output_type": "execute_result",
          "data": {
            "text/plain": "2"
          },
          "metadata": {}
        }
      ]
    },
    {
      "cell_type": "code",
      "source": "#Code cell to multiply numbers.\n5*5",
      "metadata": {
        "trusted": true
      },
      "execution_count": 14,
      "outputs": [
        {
          "execution_count": 14,
          "output_type": "execute_result",
          "data": {
            "text/plain": "25"
          },
          "metadata": {}
        }
      ]
    },
    {
      "cell_type": "code",
      "source": "#convert minutes to hours.\nmin=120\nhour=int(min/60)\nprint(\"Conversion of\",min,\"minutes to hours is\",hour,\"hrs.\")",
      "metadata": {
        "trusted": true
      },
      "execution_count": 24,
      "outputs": [
        {
          "name": "stdout",
          "text": "Conversion of 120 minutes to hours is 2 hrs.\n",
          "output_type": "stream"
        }
      ]
    },
    {
      "cell_type": "markdown",
      "source": "***Objectives of data science:***\n- Collecting data\n- Processing data\n- Exploring and visualizing data\n- Analyzing (data) and/or applying machine learning (to data)\n- Deciding (or planning) based on acquired insight",
      "metadata": {}
    },
    {
      "cell_type": "markdown",
      "source": "***Author’s name :*** Manasi Patil",
      "metadata": {}
    },
    {
      "cell_type": "code",
      "source": "",
      "metadata": {},
      "execution_count": null,
      "outputs": []
    }
  ]
}